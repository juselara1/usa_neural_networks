{
  "cells": [
    {
      "cell_type": "markdown",
      "id": "c3675202",
      "metadata": {
        "id": "c3675202"
      },
      "source": [
        "# Redes Neuronales para HPC - Taller 1\n",
        "---\n",
        "\n",
        "- **Fecha de entrega**: 2023-03-11\n",
        "- **Tema**: Modelamiento en `jax` y GPGPU.\n",
        "- **Enlace de entrega**: https://forms.gle/fGshDawEfQvf68LDA"
      ]
    },
    {
      "cell_type": "code",
      "execution_count": null,
      "id": "be9b83e2",
      "metadata": {
        "lines_to_next_cell": 1,
        "id": "be9b83e2"
      },
      "outputs": [],
      "source": [
        "import jax\n",
        "import jax.numpy as jnp\n",
        "from jax.typing import ArrayLike"
      ]
    },
    {
      "cell_type": "markdown",
      "id": "e91d935f",
      "metadata": {
        "id": "e91d935f"
      },
      "source": [
        "## Creación del Conjunto de Datos\n",
        "---\n",
        "\n",
        "En este caso generaremos un conjunto de datos a partir de dos distribuciones normales. Para esto debe implementar la función `make_data`, la cual tiene las siguientes características:\n",
        "\n",
        "**Parámetros**:\n",
        "\n",
        "- `centroids`: matriz de `(2, 2)` donde cada fila representa un centroide de una distribución.\n",
        "- `stds`: vector de `(2, )` donde cada valor representa la desviación estándar de cada distribución.\n",
        "- `n_points`: número de puntos a generar de cada distribución.\n",
        "- `seed`: semilla de números aleatorios.\n",
        "\n",
        "**Retorna**:\n",
        "\n",
        "- `features`: matriz de `(n_points * 2, 2)` con los puntos generados de las dos distribuciones.\n",
        "- `labels`: vector de `(n_points * 2, )` con valores indicando a qué distribución pertenece cada punto.\n",
        "\n",
        "> **Nota**: no olvide concatenar una columna de unos a la matriz $\\mathbf{X}$."
      ]
    },
    {
      "cell_type": "code",
      "execution_count": null,
      "id": "a787253a",
      "metadata": {
        "lines_to_next_cell": 1,
        "id": "a787253a"
      },
      "outputs": [],
      "source": [
        "def make_data(centroids: ArrayLike, stds: ArrayLike, n_points: int, seed: int) -> ArrayLike:\n",
        "    features = ...\n",
        "    labels = ...\n",
        "    return features, labels"
      ]
    },
    {
      "cell_type": "code",
      "execution_count": null,
      "id": "a47fe831",
      "metadata": {
        "lines_to_next_cell": 1,
        "id": "a47fe831"
      },
      "outputs": [],
      "source": [
        "features, labels = make_data(\n",
        "        centroids = jnp.array([\n",
        "            [0., 0.],\n",
        "            [1., 1.]\n",
        "            ]),\n",
        "        stds = jnp.array([1., 1.]),\n",
        "        n_points = 1000,\n",
        "        seed = 0\n",
        "        )"
      ]
    },
    {
      "cell_type": "markdown",
      "id": "8513a21b",
      "metadata": {
        "id": "8513a21b"
      },
      "source": [
        "## Función Logística\n",
        "---\n",
        "\n",
        "Debe implementar una función que dado un vector de pesos $\\mathbf{w} \\in \\mathbb{R}^{2 \\times 1}$ y una matriz de datos $\\mathbf{X} \\in \\mathbb{R} ^ {N \\times 2}$ genere la salida de una función logística:\n",
        "\n",
        "$$\n",
        "\\tilde{\\mathbf{y}} = \\frac{1}{1 + e ^ {\\mathbf{X} \\cdot \\mathbf{w}}}\n",
        "$$\n",
        "\n",
        "Para esto debe implementar la función `sigmoid`, con las siguientes especificaciones:\n",
        "\n",
        "**Parámetros**:\n",
        "\n",
        "- `features`: matriz $\\mathbf{X}$.\n",
        "- `weights`: vector de parámetros $\\mathbf{w}$.\n",
        "\n",
        "**Retorna**:\n",
        "\n",
        "- `y_pred`: predicción del modelo $\\tilde{\\mathbf{y}}$."
      ]
    },
    {
      "cell_type": "code",
      "execution_count": null,
      "id": "e80e6507",
      "metadata": {
        "lines_to_next_cell": 1,
        "id": "e80e6507"
      },
      "outputs": [],
      "source": [
        "def sigmoid(features: ArrayLike, weights: ArrayLike) -> ArrayLike:\n",
        "    y_pred = ...\n",
        "    return y_pred"
      ]
    },
    {
      "cell_type": "code",
      "execution_count": null,
      "id": "412a518c",
      "metadata": {
        "lines_to_next_cell": 1,
        "id": "412a518c"
      },
      "outputs": [],
      "source": [
        "weights = jnp.array([\n",
        "    [0.],\n",
        "    [0.]\n",
        "    ])\n",
        "y_pred = sigmoid(features, weights)"
      ]
    },
    {
      "cell_type": "markdown",
      "id": "5dcfc8ea",
      "metadata": {
        "id": "5dcfc8ea"
      },
      "source": [
        "## Entropía Cruzada Binaria\n",
        "---\n",
        "\n",
        "Implemente la función de entropía binaria cruzada para medir qué tan cercanas están las predicciones $\\tilde{\\mathbf{y}}$ de las etiquetas originales $\\mathbf{y}$:\n",
        "\n",
        "$$\n",
        "\\mathcal{L} = \\sum_{i = 1} ^ {N} y_i \\log{\\tilde{y_i}} + (1 - y_i) \\log{(1 - \\tilde{y_i})}\n",
        "$$\n",
        "\n",
        "Para esto debe implementar la función `binary_crossentropy`:\n",
        "\n",
        "**Parámetros**:\n",
        "\n",
        "- `y_true`: etiquetas del conjunto de datos.\n",
        "- `y_pred`: predicciones del modelo.\n",
        "\n",
        "**Retorna**:\n",
        "\n",
        "- `loss`: valor de la entropía binaria."
      ]
    },
    {
      "cell_type": "code",
      "execution_count": null,
      "id": "e028f7b9",
      "metadata": {
        "lines_to_next_cell": 1,
        "id": "e028f7b9"
      },
      "outputs": [],
      "source": [
        "def binary_crossentropy(y_true: ArrayLike, y_pred: ArrayLike) -> ArrayLike:\n",
        "    loss = ...\n",
        "    return loss"
      ]
    },
    {
      "cell_type": "code",
      "execution_count": null,
      "id": "d22d351b",
      "metadata": {
        "lines_to_next_cell": 1,
        "id": "d22d351b"
      },
      "outputs": [],
      "source": [
        "loss = binary_crossentropy(y_true=labels, y_pred=y_pred)"
      ]
    },
    {
      "cell_type": "markdown",
      "id": "7c6ef5f8",
      "metadata": {
        "id": "7c6ef5f8"
      },
      "source": [
        "## Entrenamiento\n",
        "---\n",
        "\n",
        "Implemente la función `train`, la cual deberá utilizar las funciones anteriormente mencionadas para optimizar la entropía binaria cruzada. Debe determinar el valor de $\\mathbf{w}$ que minimice dicha función por medio de diferenciación automática **autograd** y compilación de tipo **jit**.\n",
        "\n",
        "**Parámetros**\n",
        "\n",
        "- `features`: matriz de características $\\mathbf{X}$.\n",
        "- `labels`: etiquetas del conjunto de datos.\n",
        "- `weights`: parámetros iniciales.\n",
        "- `n_iters`: número de iteraciones.\n",
        "- `learning_rate`: taza de aprendizaje para el algoritmo SGD.\n",
        "\n",
        "**Retorna**:\n",
        "\n",
        "- `weights`: parámetros optimizados."
      ]
    },
    {
      "cell_type": "code",
      "execution_count": null,
      "id": "76ca0cd0",
      "metadata": {
        "id": "76ca0cd0"
      },
      "outputs": [],
      "source": [
        "def train(\n",
        "    features: ArrayLike,\n",
        "    labels: ArrayLike,\n",
        "    weights: ArrayLike,\n",
        "    n_iters: int,\n",
        "    learning_rate: float,\n",
        "    ) -> ArrayLike:\n",
        "    weights = ...\n",
        "    return weights"
      ]
    },
    {
      "cell_type": "markdown",
      "id": "e8cd20de",
      "metadata": {
        "id": "e8cd20de"
      },
      "source": [
        "## Visualización\n",
        "---\n",
        "\n",
        "Genere una gráfica en dos dimensiones que muestre las regiones de decisión del modelo. Puede basarse en la que genera `sklearn`: https://scikit-learn.org/stable/modules/generated/sklearn.inspection.DecisionBoundaryDisplay.html"
      ]
    }
  ],
  "metadata": {
    "jupytext": {
      "cell_metadata_filter": "-all",
      "formats": "py:percent,ipynb",
      "main_language": "python"
    },
    "colab": {
      "provenance": []
    }
  },
  "nbformat": 4,
  "nbformat_minor": 5
}