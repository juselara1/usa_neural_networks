{
  "nbformat": 4,
  "nbformat_minor": 0,
  "metadata": {
    "colab": {
      "provenance": [],
      "gpuType": "T4"
    },
    "kernelspec": {
      "name": "python3",
      "display_name": "Python 3"
    },
    "language_info": {
      "name": "python"
    },
    "accelerator": "GPU"
  },
  "cells": [
    {
      "cell_type": "code",
      "execution_count": null,
      "metadata": {
        "colab": {
          "base_uri": "https://localhost:8080/"
        },
        "id": "y-voJWLF0EgY",
        "outputId": "cb6cdb9d-11c3-402c-f275-2a276a03c456"
      },
      "outputs": [
        {
          "output_type": "stream",
          "name": "stdout",
          "text": [
            "sample_data\n"
          ]
        }
      ],
      "source": [
        "!ls"
      ]
    },
    {
      "cell_type": "code",
      "source": [
        "!pwd"
      ],
      "metadata": {
        "colab": {
          "base_uri": "https://localhost:8080/"
        },
        "id": "IJjDPI951K5W",
        "outputId": "f120db4a-ab8f-4309-aafa-58713643b2c8"
      },
      "execution_count": null,
      "outputs": [
        {
          "output_type": "stream",
          "name": "stdout",
          "text": [
            "/content\n"
          ]
        }
      ]
    },
    {
      "cell_type": "code",
      "source": [
        "!nvidia-smi"
      ],
      "metadata": {
        "colab": {
          "base_uri": "https://localhost:8080/"
        },
        "id": "FhRJVCWc1MkK",
        "outputId": "2397a05e-ed58-4aa5-dec9-9c72ce6c26e3"
      },
      "execution_count": null,
      "outputs": [
        {
          "output_type": "stream",
          "name": "stdout",
          "text": [
            "Thu Jul 27 19:30:50 2023       \n",
            "+-----------------------------------------------------------------------------+\n",
            "| NVIDIA-SMI 525.105.17   Driver Version: 525.105.17   CUDA Version: 12.0     |\n",
            "|-------------------------------+----------------------+----------------------+\n",
            "| GPU  Name        Persistence-M| Bus-Id        Disp.A | Volatile Uncorr. ECC |\n",
            "| Fan  Temp  Perf  Pwr:Usage/Cap|         Memory-Usage | GPU-Util  Compute M. |\n",
            "|                               |                      |               MIG M. |\n",
            "|===============================+======================+======================|\n",
            "|   0  Tesla T4            Off  | 00000000:00:04.0 Off |                    0 |\n",
            "| N/A   44C    P8     9W /  70W |      0MiB / 15360MiB |      0%      Default |\n",
            "|                               |                      |                  N/A |\n",
            "+-------------------------------+----------------------+----------------------+\n",
            "                                                                               \n",
            "+-----------------------------------------------------------------------------+\n",
            "| Processes:                                                                  |\n",
            "|  GPU   GI   CI        PID   Type   Process name                  GPU Memory |\n",
            "|        ID   ID                                                   Usage      |\n",
            "|=============================================================================|\n",
            "|  No running processes found                                                 |\n",
            "+-----------------------------------------------------------------------------+\n"
          ]
        }
      ]
    },
    {
      "cell_type": "code",
      "source": [
        "!nvidia-smi --help"
      ],
      "metadata": {
        "colab": {
          "base_uri": "https://localhost:8080/"
        },
        "id": "9z_GO4gs1RiD",
        "outputId": "a72cf0ef-0701-418c-ccdf-2905efbc64dd"
      },
      "execution_count": null,
      "outputs": [
        {
          "output_type": "stream",
          "name": "stdout",
          "text": [
            "NVIDIA System Management Interface -- v525.105.17\n",
            "\n",
            "NVSMI provides monitoring information for Tesla and select Quadro devices.\n",
            "The data is presented in either a plain text or an XML format, via stdout or a file.\n",
            "NVSMI also provides several management operations for changing the device state.\n",
            "\n",
            "Note that the functionality of NVSMI is exposed through the NVML C-based\n",
            "library. See the NVIDIA developer website for more information about NVML.\n",
            "Python wrappers to NVML are also available.  The output of NVSMI is\n",
            "not guaranteed to be backwards compatible; NVML and the bindings are backwards\n",
            "compatible.\n",
            "\n",
            "http://developer.nvidia.com/nvidia-management-library-nvml/\n",
            "http://pypi.python.org/pypi/nvidia-ml-py/\n",
            "Supported products:\n",
            "- Full Support\n",
            "    - All Tesla products, starting with the Kepler architecture\n",
            "    - All Quadro products, starting with the Kepler architecture\n",
            "    - All GRID products, starting with the Kepler architecture\n",
            "    - GeForce Titan products, starting with the Kepler architecture\n",
            "- Limited Support\n",
            "    - All Geforce products, starting with the Kepler architecture\n",
            "nvidia-smi [OPTION1 [ARG1]] [OPTION2 [ARG2]] ...\n",
            "\n",
            "    -h,   --help                Print usage information and exit.\n",
            "\n",
            "  LIST OPTIONS:\n",
            "\n",
            "    -L,   --list-gpus           Display a list of GPUs connected to the system.\n",
            "\n",
            "    -B,   --list-excluded-gpus  Display a list of excluded GPUs in the system.\n",
            "\n",
            "  SUMMARY OPTIONS:\n",
            "\n",
            "    <no arguments>              Show a summary of GPUs connected to the system.\n",
            "\n",
            "    [plus any of]\n",
            "\n",
            "    -i,   --id=                 Target a specific GPU.\n",
            "    -f,   --filename=           Log to a specified file, rather than to stdout.\n",
            "    -l,   --loop=               Probe until Ctrl+C at specified second interval.\n",
            "\n",
            "  QUERY OPTIONS:\n",
            "\n",
            "    -q,   --query               Display GPU or Unit info.\n",
            "\n",
            "    [plus any of]\n",
            "\n",
            "    -u,   --unit                Show unit, rather than GPU, attributes.\n",
            "    -i,   --id=                 Target a specific GPU or Unit.\n",
            "    -f,   --filename=           Log to a specified file, rather than to stdout.\n",
            "    -x,   --xml-format          Produce XML output.\n",
            "          --dtd                 When showing xml output, embed DTD.\n",
            "    -d,   --display=            Display only selected information: MEMORY,\n",
            "                                    UTILIZATION, ECC, TEMPERATURE, POWER, CLOCK,\n",
            "                                    COMPUTE, PIDS, PERFORMANCE, SUPPORTED_CLOCKS,\n",
            "                                    PAGE_RETIREMENT, ACCOUNTING, ENCODER_STATS,\n",
            "                                    SUPPORTED_GPU_TARGET_TEMP, VOLTAGE\n",
            "                                    FBC_STATS, ROW_REMAPPER\n",
            "                                Flags can be combined with comma e.g. ECC,POWER.\n",
            "                                Sampling data with max/min/avg is also returned \n",
            "                                for POWER, UTILIZATION and CLOCK display types.\n",
            "                                Doesn't work with -u or -x flags.\n",
            "    -l,   --loop=               Probe until Ctrl+C at specified second interval.\n",
            "\n",
            "    -lms, --loop-ms=            Probe until Ctrl+C at specified millisecond interval.\n",
            "\n",
            "  SELECTIVE QUERY OPTIONS:\n",
            "\n",
            "    Allows the caller to pass an explicit list of properties to query.\n",
            "\n",
            "    [one of]\n",
            "\n",
            "    --query-gpu                 Information about GPU.\n",
            "                                Call --help-query-gpu for more info.\n",
            "    --query-supported-clocks    List of supported clocks.\n",
            "                                Call --help-query-supported-clocks for more info.\n",
            "    --query-compute-apps        List of currently active compute processes.\n",
            "                                Call --help-query-compute-apps for more info.\n",
            "    --query-accounted-apps      List of accounted compute processes.\n",
            "                                Call --help-query-accounted-apps for more info.\n",
            "                                This query is not supported on vGPU host.\n",
            "    --query-retired-pages       List of device memory pages that have been retired.\n",
            "                                Call --help-query-retired-pages for more info.\n",
            "    --query-remapped-rows       Information about remapped rows.\n",
            "                                Call --help-query-remapped-rows for more info.\n",
            "\n",
            "    [mandatory]\n",
            "\n",
            "    --format=                   Comma separated list of format options:\n",
            "                                  csv - comma separated values (MANDATORY)\n",
            "                                  noheader - skip the first line with column headers\n",
            "                                  nounits - don't print units for numerical\n",
            "                                             values\n",
            "\n",
            "    [plus any of]\n",
            "\n",
            "    -i,   --id=                 Target a specific GPU or Unit.\n",
            "    -f,   --filename=           Log to a specified file, rather than to stdout.\n",
            "    -l,   --loop=               Probe until Ctrl+C at specified second interval.\n",
            "    -lms, --loop-ms=            Probe until Ctrl+C at specified millisecond interval.\n",
            "\n",
            "  DEVICE MODIFICATION OPTIONS:\n",
            "\n",
            "    [any one of]\n",
            "\n",
            "    -pm,  --persistence-mode=   Set persistence mode: 0/DISABLED, 1/ENABLED\n",
            "    -e,   --ecc-config=         Toggle ECC support: 0/DISABLED, 1/ENABLED\n",
            "    -p,   --reset-ecc-errors=   Reset ECC error counts: 0/VOLATILE, 1/AGGREGATE\n",
            "    -c,   --compute-mode=       Set MODE for compute applications:\n",
            "                                0/DEFAULT, 1/EXCLUSIVE_THREAD (DEPRECATED),\n",
            "                                2/PROHIBITED, 3/EXCLUSIVE_PROCESS\n",
            "          --gom=                Set GPU Operation Mode:\n",
            "                                    0/ALL_ON, 1/COMPUTE, 2/LOW_DP\n",
            "    -r    --gpu-reset           Trigger reset of the GPU.\n",
            "                                Can be used to reset the GPU HW state in situations\n",
            "                                that would otherwise require a machine reboot.\n",
            "                                Typically useful if a double bit ECC error has\n",
            "                                occurred.\n",
            "                                Reset operations are not guarenteed to work in\n",
            "                                all cases and should be used with caution.\n",
            "    -vm   --virt-mode=          Switch GPU Virtualization Mode:\n",
            "                                Sets GPU virtualization mode to 3/VGPU or 4/VSGA\n",
            "                                Virtualization mode of a GPU can only be set when\n",
            "                                it is running on a hypervisor.\n",
            "    -lgc  --lock-gpu-clocks=    Specifies <minGpuClock,maxGpuClock> clocks as a\n",
            "                                    pair (e.g. 1500,1500) that defines the range \n",
            "                                    of desired locked GPU clock speed in MHz.\n",
            "                                    Setting this will supercede application clocks\n",
            "                                    and take effect regardless if an app is running.\n",
            "                                    Input can also be a singular desired clock value\n",
            "                                    (e.g. <GpuClockValue>). Optionally, --mode can be\n",
            "                                    specified to indicate a special mode.\n",
            "    -m    --mode=               Specifies the mode for --locked-gpu-clocks.\n",
            "                                    Valid modes: 0, 1    -rgc  --reset-gpu-clocks\n",
            "                                Resets the Gpu clocks to the default values.\n",
            "    -lmc  --lock-memory-clocks=  Specifies <minMemClock,maxMemClock> clocks as a\n",
            "                                    pair (e.g. 5100,5100) that defines the range \n",
            "                                    of desired locked Memory clock speed in MHz.\n",
            "                                    Input can also be a singular desired clock value\n",
            "                                    (e.g. <MemClockValue>).\n",
            "    -rmc  --reset-memory-clocks\n",
            "                                Resets the Memory clocks to the default values.\n",
            "    -lmcd --lock-memory-clocks-deferred=\n",
            "                                    Specifies memClock clock to lock. This limit is\n",
            "                                    applied after GPU reset. Note that, this limit is\n",
            "                                    persistence across system reboots.    -rmcd --reset-memory-clocks-deferred\n",
            "                                Resets the deferred Memory clocks applied.\n",
            "    -ac   --applications-clocks= Specifies <memory,graphics> clocks as a\n",
            "                                    pair (e.g. 2000,800) that defines GPU's\n",
            "                                    speed in MHz while running applications on a GPU.\n",
            "    -rac  --reset-applications-clocks\n",
            "                                Resets the applications clocks to the default values.\n",
            "    -pl   --power-limit=        Specifies maximum power management limit in watts.\n",
            "    -cc   --cuda-clocks=        Overrides or restores default CUDA clocks.\n",
            "                                In override mode, GPU clocks higher frequencies when running CUDA applications.\n",
            "                                Only on supported devices starting from the Volta series.\n",
            "                                Requires administrator privileges.\n",
            "                                0/RESTORE_DEFAULT, 1/OVERRIDE\n",
            "    -am   --accounting-mode=    Enable or disable Accounting Mode: 0/DISABLED, 1/ENABLED\n",
            "    -caa  --clear-accounted-apps\n",
            "                                Clears all the accounted PIDs in the buffer.\n",
            "          --auto-boost-default= Set the default auto boost policy to 0/DISABLED\n",
            "                                or 1/ENABLED, enforcing the change only after the\n",
            "                                last boost client has exited.\n",
            "          --auto-boost-permission=\n",
            "                                Allow non-admin/root control over auto boost mode:\n",
            "                                0/UNRESTRICTED, 1/RESTRICTED\n",
            "    -mig  --multi-instance-gpu= Enable or disable Multi Instance GPU: 0/DISABLED, 1/ENABLED\n",
            "                                Requires root.\n",
            "    -gtt  --gpu-target-temp=    Set GPU Target Temperature for a GPU in degree celsius.\n",
            "                                Requires administrator privileges\n",
            "\n",
            "   [plus optional]\n",
            "\n",
            "    -i,   --id=                 Target a specific GPU.\n",
            "    -eow, --error-on-warning    Return a non-zero error for warnings.\n",
            "\n",
            "  UNIT MODIFICATION OPTIONS:\n",
            "\n",
            "    -t,   --toggle-led=         Set Unit LED state: 0/GREEN, 1/AMBER\n",
            "\n",
            "   [plus optional]\n",
            "\n",
            "    -i,   --id=                 Target a specific Unit.\n",
            "\n",
            "  SHOW DTD OPTIONS:\n",
            "\n",
            "          --dtd                 Print device DTD and exit.\n",
            "\n",
            "     [plus optional]\n",
            "\n",
            "    -f,   --filename=           Log to a specified file, rather than to stdout.\n",
            "    -u,   --unit                Show unit, rather than device, DTD.\n",
            "\n",
            "    --debug=                    Log encrypted debug information to a specified file. \n",
            "\n",
            " STATISTICS: (DEPRECATED)\n",
            "    stats                       Displays device statistics. \"nvidia-smi stats -h\" for more information.\n",
            "                                \"nvidia-smi stats\" is deprecated and will be removed in CUDA 12.1.\n",
            "                                Consider using \"nvidia-smi dmon\" instead.\n",
            "\n",
            " Device Monitoring:\n",
            "    dmon                        Displays device stats in scrolling format.\n",
            "                                \"nvidia-smi dmon -h\" for more information.\n",
            "\n",
            "    daemon                      Runs in background and monitor devices as a daemon process.\n",
            "                                This is an experimental feature. Not supported on Windows baremetal\n",
            "                                \"nvidia-smi daemon -h\" for more information.\n",
            "\n",
            "    replay                      Used to replay/extract the persistent stats generated by daemon.\n",
            "                                This is an experimental feature.\n",
            "                                \"nvidia-smi replay -h\" for more information.\n",
            "\n",
            " Process Monitoring:\n",
            "    pmon                        Displays process stats in scrolling format.\n",
            "                                \"nvidia-smi pmon -h\" for more information.\n",
            "\n",
            " TOPOLOGY:\n",
            "    topo                        Displays device/system topology. \"nvidia-smi topo -h\" for more information.\n",
            "\n",
            " DRAIN STATES:\n",
            "    drain                       Displays/modifies GPU drain states for power idling. \"nvidia-smi drain -h\" for more information.\n",
            "\n",
            " NVLINK:\n",
            "    nvlink                      Displays device nvlink information. \"nvidia-smi nvlink -h\" for more information.\n",
            "\n",
            " CLOCKS:\n",
            "    clocks                      Control and query clock information. \"nvidia-smi clocks -h\" for more information.\n",
            "\n",
            " ENCODER SESSIONS:\n",
            "    encodersessions             Displays device encoder sessions information. \"nvidia-smi encodersessions -h\" for more information.\n",
            "\n",
            " FBC SESSIONS:\n",
            "    fbcsessions                 Displays device FBC sessions information. \"nvidia-smi fbcsessions -h\" for more information.\n",
            "\n",
            " GRID vGPU:\n",
            "    vgpu                        Displays vGPU information. \"nvidia-smi vgpu -h\" for more information.\n",
            "\n",
            " MIG:\n",
            "    mig                         Provides controls for MIG management. \"nvidia-smi mig -h\" for more information.\n",
            "\n",
            " COMPUTE POLICY:\n",
            "    compute-policy              Control and query compute policies. \"nvidia-smi compute-policy -h\" for more information. \n",
            "\n",
            " BOOST SLIDER:\n",
            "    boost-slider                Control and query boost sliders. \"nvidia-smi boost-slider -h\" for more information. \n",
            "\n",
            " POWER HINT:    power-hint                  Estimates GPU power usage. \"nvidia-smi power-hint -h\" for more information. \n",
            "\n",
            " BASE CLOCKS:    base-clocks                 Query GPU base clocks. \"nvidia-smi base-clocks -h\" for more information. \n",
            "\n",
            " COUNTER COLLECTION UNIT: \n",
            "    ccu                         Control and query counter collection unit. \"nvidia-smi ccu -h\" for more information. \n",
            "\n",
            "Please see the nvidia-smi(1) manual page for more detailed information.\n"
          ]
        }
      ]
    },
    {
      "cell_type": "code",
      "source": [
        "!nvidia-smi -q"
      ],
      "metadata": {
        "colab": {
          "base_uri": "https://localhost:8080/"
        },
        "id": "0nFaP9aH2R-s",
        "outputId": "a3d15c22-f7a0-46f0-8afb-c1d077f2accb"
      },
      "execution_count": null,
      "outputs": [
        {
          "output_type": "stream",
          "name": "stdout",
          "text": [
            "\n",
            "==============NVSMI LOG==============\n",
            "\n",
            "Timestamp                                 : Thu Jul 27 19:35:40 2023\n",
            "Driver Version                            : 525.105.17\n",
            "CUDA Version                              : 12.0\n",
            "\n",
            "Attached GPUs                             : 1\n",
            "GPU 00000000:00:04.0\n",
            "    Product Name                          : Tesla T4\n",
            "    Product Brand                         : NVIDIA\n",
            "    Product Architecture                  : Turing\n",
            "    Display Mode                          : Enabled\n",
            "    Display Active                        : Disabled\n",
            "    Persistence Mode                      : Disabled\n",
            "    MIG Mode\n",
            "        Current                           : N/A\n",
            "        Pending                           : N/A\n",
            "    Accounting Mode                       : Disabled\n",
            "    Accounting Mode Buffer Size           : 4000\n",
            "    Driver Model\n",
            "        Current                           : N/A\n",
            "        Pending                           : N/A\n",
            "    Serial Number                         : 1562221020198\n",
            "    GPU UUID                              : GPU-ce491302-c71b-eb79-1bc4-02d977a6a71d\n",
            "    Minor Number                          : 0\n",
            "    VBIOS Version                         : 90.04.A7.00.01\n",
            "    MultiGPU Board                        : No\n",
            "    Board ID                              : 0x4\n",
            "    Board Part Number                     : 900-2G183-6300-T00\n",
            "    GPU Part Number                       : 1EB8-895-A1\n",
            "    Module ID                             : 1\n",
            "    Inforom Version\n",
            "        Image Version                     : G183.0200.00.02\n",
            "        OEM Object                        : 1.1\n",
            "        ECC Object                        : 5.0\n",
            "        Power Management Object           : N/A\n",
            "    GPU Operation Mode\n",
            "        Current                           : N/A\n",
            "        Pending                           : N/A\n",
            "    GSP Firmware Version                  : N/A\n",
            "    GPU Virtualization Mode\n",
            "        Virtualization Mode               : Pass-Through\n",
            "        Host VGPU Mode                    : N/A\n",
            "    IBMNPU\n",
            "        Relaxed Ordering Mode             : N/A\n",
            "    PCI\n",
            "        Bus                               : 0x00\n",
            "        Device                            : 0x04\n",
            "        Domain                            : 0x0000\n",
            "        Device Id                         : 0x1EB810DE\n",
            "        Bus Id                            : 00000000:00:04.0\n",
            "        Sub System Id                     : 0x12A210DE\n",
            "        GPU Link Info\n",
            "            PCIe Generation\n",
            "                Max                       : 3\n",
            "                Current                   : 1\n",
            "                Device Current            : 1\n",
            "                Device Max                : 3\n",
            "                Host Max                  : N/A\n",
            "            Link Width\n",
            "                Max                       : 16x\n",
            "                Current                   : 16x\n",
            "        Bridge Chip\n",
            "            Type                          : N/A\n",
            "            Firmware                      : N/A\n",
            "        Replays Since Reset               : 0\n",
            "        Replay Number Rollovers           : 0\n",
            "        Tx Throughput                     : 0 KB/s\n",
            "        Rx Throughput                     : 0 KB/s\n",
            "        Atomic Caps Inbound               : N/A\n",
            "        Atomic Caps Outbound              : N/A\n",
            "    Fan Speed                             : N/A\n",
            "    Performance State                     : P8\n",
            "    Clocks Throttle Reasons\n",
            "        Idle                              : Active\n",
            "        Applications Clocks Setting       : Not Active\n",
            "        SW Power Cap                      : Not Active\n",
            "        HW Slowdown                       : Not Active\n",
            "            HW Thermal Slowdown           : Not Active\n",
            "            HW Power Brake Slowdown       : Not Active\n",
            "        Sync Boost                        : Not Active\n",
            "        SW Thermal Slowdown               : Not Active\n",
            "        Display Clock Setting             : Not Active\n",
            "    FB Memory Usage\n",
            "        Total                             : 15360 MiB\n",
            "        Reserved                          : 258 MiB\n",
            "        Used                              : 0 MiB\n",
            "        Free                              : 15101 MiB\n",
            "    BAR1 Memory Usage\n",
            "        Total                             : 256 MiB\n",
            "        Used                              : 2 MiB\n",
            "        Free                              : 254 MiB\n",
            "    Compute Mode                          : Default\n",
            "    Utilization\n",
            "        Gpu                               : 0 %\n",
            "        Memory                            : 0 %\n",
            "        Encoder                           : 0 %\n",
            "        Decoder                           : 0 %\n",
            "    Encoder Stats\n",
            "        Active Sessions                   : 0\n",
            "        Average FPS                       : 0\n",
            "        Average Latency                   : 0\n",
            "    FBC Stats\n",
            "        Active Sessions                   : 0\n",
            "        Average FPS                       : 0\n",
            "        Average Latency                   : 0\n",
            "    Ecc Mode\n",
            "        Current                           : Enabled\n",
            "        Pending                           : Enabled\n",
            "    ECC Errors\n",
            "        Volatile\n",
            "            SRAM Correctable              : 0\n",
            "            SRAM Uncorrectable            : 0\n",
            "            DRAM Correctable              : 0\n",
            "            DRAM Uncorrectable            : 0\n",
            "        Aggregate\n",
            "            SRAM Correctable              : 0\n",
            "            SRAM Uncorrectable            : 0\n",
            "            DRAM Correctable              : 0\n",
            "            DRAM Uncorrectable            : 0\n",
            "    Retired Pages\n",
            "        Single Bit ECC                    : 0\n",
            "        Double Bit ECC                    : 0\n",
            "        Pending Page Blacklist            : No\n",
            "    Remapped Rows                         : N/A\n",
            "    Temperature\n",
            "        GPU Current Temp                  : 42 C\n",
            "        GPU T.Limit Temp                  : N/A\n",
            "        GPU Shutdown Temp                 : 96 C\n",
            "        GPU Slowdown Temp                 : 93 C\n",
            "        GPU Max Operating Temp            : 85 C\n",
            "        GPU Target Temperature            : N/A\n",
            "        Memory Current Temp               : N/A\n",
            "        Memory Max Operating Temp         : N/A\n",
            "    Power Readings\n",
            "        Power Management                  : Supported\n",
            "        Power Draw                        : 9.76 W\n",
            "        Power Limit                       : 70.00 W\n",
            "        Default Power Limit               : 70.00 W\n",
            "        Enforced Power Limit              : 70.00 W\n",
            "        Min Power Limit                   : 60.00 W\n",
            "        Max Power Limit                   : 70.00 W\n",
            "    Clocks\n",
            "        Graphics                          : 300 MHz\n",
            "        SM                                : 300 MHz\n",
            "        Memory                            : 405 MHz\n",
            "        Video                             : 540 MHz\n",
            "    Applications Clocks\n",
            "        Graphics                          : 585 MHz\n",
            "        Memory                            : 5001 MHz\n",
            "    Default Applications Clocks\n",
            "        Graphics                          : 585 MHz\n",
            "        Memory                            : 5001 MHz\n",
            "    Deferred Clocks\n",
            "        Memory                            : N/A\n",
            "    Max Clocks\n",
            "        Graphics                          : 1590 MHz\n",
            "        SM                                : 1590 MHz\n",
            "        Memory                            : 5001 MHz\n",
            "        Video                             : 1470 MHz\n",
            "    Max Customer Boost Clocks\n",
            "        Graphics                          : 1590 MHz\n",
            "    Clock Policy\n",
            "        Auto Boost                        : N/A\n",
            "        Auto Boost Default                : N/A\n",
            "    Voltage\n",
            "        Graphics                          : N/A\n",
            "    Fabric\n",
            "        State                             : N/A\n",
            "        Status                            : N/A\n",
            "    Processes                             : None\n",
            "\n"
          ]
        }
      ]
    },
    {
      "cell_type": "code",
      "source": [
        "import jax.numpy as jnp\n",
        "import numpy as np"
      ],
      "metadata": {
        "id": "fjXByM1i2YZb"
      },
      "execution_count": null,
      "outputs": []
    },
    {
      "cell_type": "code",
      "source": [
        "x = np.array([0, 1, 2, 3, 4, 5], dtype=np.uint8)\n",
        "print(x.dtype)"
      ],
      "metadata": {
        "colab": {
          "base_uri": "https://localhost:8080/"
        },
        "id": "iA-b10nV3xKe",
        "outputId": "37ca7ba4-fb1a-45ca-801e-53ce7cd24a23"
      },
      "execution_count": null,
      "outputs": [
        {
          "output_type": "stream",
          "name": "stdout",
          "text": [
            "uint8\n"
          ]
        }
      ]
    },
    {
      "cell_type": "code",
      "source": [
        "x = jnp.array([0, 1, 2, 3, 4, 5], dtype=jnp.uint8)\n",
        "print(x.dtype)"
      ],
      "metadata": {
        "colab": {
          "base_uri": "https://localhost:8080/"
        },
        "id": "6YDjao4I4QUz",
        "outputId": "c3410b2f-57ba-4789-e2a1-68beb2277c9b"
      },
      "execution_count": null,
      "outputs": [
        {
          "output_type": "stream",
          "name": "stdout",
          "text": [
            "uint8\n"
          ]
        }
      ]
    },
    {
      "cell_type": "code",
      "source": [
        "!nvidia-smi"
      ],
      "metadata": {
        "colab": {
          "base_uri": "https://localhost:8080/"
        },
        "id": "oD3uS-v94fGA",
        "outputId": "2fb2944e-7218-4a9e-90da-faf1c5b1d374"
      },
      "execution_count": null,
      "outputs": [
        {
          "output_type": "stream",
          "name": "stdout",
          "text": [
            "Thu Jul 27 19:47:00 2023       \n",
            "+-----------------------------------------------------------------------------+\n",
            "| NVIDIA-SMI 525.105.17   Driver Version: 525.105.17   CUDA Version: 12.0     |\n",
            "|-------------------------------+----------------------+----------------------+\n",
            "| GPU  Name        Persistence-M| Bus-Id        Disp.A | Volatile Uncorr. ECC |\n",
            "| Fan  Temp  Perf  Pwr:Usage/Cap|         Memory-Usage | GPU-Util  Compute M. |\n",
            "|                               |                      |               MIG M. |\n",
            "|===============================+======================+======================|\n",
            "|   0  Tesla T4            Off  | 00000000:00:04.0 Off |                    0 |\n",
            "| N/A   53C    P0    27W /  70W |  11433MiB / 15360MiB |      0%      Default |\n",
            "|                               |                      |                  N/A |\n",
            "+-------------------------------+----------------------+----------------------+\n",
            "                                                                               \n",
            "+-----------------------------------------------------------------------------+\n",
            "| Processes:                                                                  |\n",
            "|  GPU   GI   CI        PID   Type   Process name                  GPU Memory |\n",
            "|        ID   ID                                                   Usage      |\n",
            "|=============================================================================|\n",
            "+-----------------------------------------------------------------------------+\n"
          ]
        }
      ]
    },
    {
      "cell_type": "code",
      "source": [
        "15360 * .8"
      ],
      "metadata": {
        "colab": {
          "base_uri": "https://localhost:8080/"
        },
        "id": "cEhLcwvZ4-Ud",
        "outputId": "2e9ce629-0e7e-42f0-9b64-93e6ac1f9ffd"
      },
      "execution_count": null,
      "outputs": [
        {
          "output_type": "execute_result",
          "data": {
            "text/plain": [
              "12288.0"
            ]
          },
          "metadata": {},
          "execution_count": 15
        }
      ]
    },
    {
      "cell_type": "code",
      "source": [
        "import torch"
      ],
      "metadata": {
        "id": "KIVsIPxs5RTe"
      },
      "execution_count": null,
      "outputs": []
    },
    {
      "cell_type": "code",
      "source": [
        "x = torch.tensor([0, 1, 2, 3, 4, 5])\n",
        "x"
      ],
      "metadata": {
        "colab": {
          "base_uri": "https://localhost:8080/"
        },
        "id": "_tzpzCeT5lh4",
        "outputId": "0ecbeaeb-8b5d-4185-fd73-970d3c9e439a"
      },
      "execution_count": null,
      "outputs": [
        {
          "output_type": "execute_result",
          "data": {
            "text/plain": [
              "tensor([0, 1, 2, 3, 4, 5])"
            ]
          },
          "metadata": {},
          "execution_count": 3
        }
      ]
    },
    {
      "cell_type": "code",
      "source": [
        "!nvidia-smi"
      ],
      "metadata": {
        "colab": {
          "base_uri": "https://localhost:8080/"
        },
        "id": "huOh355-5rWc",
        "outputId": "cb91d78c-9dcf-4ba6-f18b-785f2426f3c7"
      },
      "execution_count": null,
      "outputs": [
        {
          "output_type": "stream",
          "name": "stdout",
          "text": [
            "Thu Jul 27 19:50:18 2023       \n",
            "+-----------------------------------------------------------------------------+\n",
            "| NVIDIA-SMI 525.105.17   Driver Version: 525.105.17   CUDA Version: 12.0     |\n",
            "|-------------------------------+----------------------+----------------------+\n",
            "| GPU  Name        Persistence-M| Bus-Id        Disp.A | Volatile Uncorr. ECC |\n",
            "| Fan  Temp  Perf  Pwr:Usage/Cap|         Memory-Usage | GPU-Util  Compute M. |\n",
            "|                               |                      |               MIG M. |\n",
            "|===============================+======================+======================|\n",
            "|   0  Tesla T4            Off  | 00000000:00:04.0 Off |                    0 |\n",
            "| N/A   53C    P8    10W /  70W |      0MiB / 15360MiB |      0%      Default |\n",
            "|                               |                      |                  N/A |\n",
            "+-------------------------------+----------------------+----------------------+\n",
            "                                                                               \n",
            "+-----------------------------------------------------------------------------+\n",
            "| Processes:                                                                  |\n",
            "|  GPU   GI   CI        PID   Type   Process name                  GPU Memory |\n",
            "|        ID   ID                                                   Usage      |\n",
            "|=============================================================================|\n",
            "|  No running processes found                                                 |\n",
            "+-----------------------------------------------------------------------------+\n"
          ]
        }
      ]
    },
    {
      "cell_type": "code",
      "source": [
        "y = x.to(\"cuda\")"
      ],
      "metadata": {
        "id": "XYRyW5ml5ugQ"
      },
      "execution_count": null,
      "outputs": []
    },
    {
      "cell_type": "code",
      "source": [
        "y"
      ],
      "metadata": {
        "colab": {
          "base_uri": "https://localhost:8080/"
        },
        "id": "bsw-uFvx51Ir",
        "outputId": "25cf3214-a4a3-4e4c-c8a1-1fb274ac65d9"
      },
      "execution_count": null,
      "outputs": [
        {
          "output_type": "execute_result",
          "data": {
            "text/plain": [
              "tensor([0, 1, 2, 3, 4, 5], device='cuda:0')"
            ]
          },
          "metadata": {},
          "execution_count": 6
        }
      ]
    },
    {
      "cell_type": "code",
      "source": [
        "!nvidia-smi"
      ],
      "metadata": {
        "colab": {
          "base_uri": "https://localhost:8080/"
        },
        "id": "tvba8h0M52M0",
        "outputId": "a35da149-f917-4ff6-c746-f97e26b4c587"
      },
      "execution_count": null,
      "outputs": [
        {
          "output_type": "stream",
          "name": "stdout",
          "text": [
            "Thu Jul 27 19:50:58 2023       \n",
            "+-----------------------------------------------------------------------------+\n",
            "| NVIDIA-SMI 525.105.17   Driver Version: 525.105.17   CUDA Version: 12.0     |\n",
            "|-------------------------------+----------------------+----------------------+\n",
            "| GPU  Name        Persistence-M| Bus-Id        Disp.A | Volatile Uncorr. ECC |\n",
            "| Fan  Temp  Perf  Pwr:Usage/Cap|         Memory-Usage | GPU-Util  Compute M. |\n",
            "|                               |                      |               MIG M. |\n",
            "|===============================+======================+======================|\n",
            "|   0  Tesla T4            Off  | 00000000:00:04.0 Off |                    0 |\n",
            "| N/A   54C    P0    27W /  70W |    105MiB / 15360MiB |      0%      Default |\n",
            "|                               |                      |                  N/A |\n",
            "+-------------------------------+----------------------+----------------------+\n",
            "                                                                               \n",
            "+-----------------------------------------------------------------------------+\n",
            "| Processes:                                                                  |\n",
            "|  GPU   GI   CI        PID   Type   Process name                  GPU Memory |\n",
            "|        ID   ID                                                   Usage      |\n",
            "|=============================================================================|\n",
            "+-----------------------------------------------------------------------------+\n"
          ]
        }
      ]
    },
    {
      "cell_type": "code",
      "source": [
        "import jax.numpy as jnp\n",
        "import numpy as np"
      ],
      "metadata": {
        "id": "zzgOPdHf54at"
      },
      "execution_count": null,
      "outputs": []
    },
    {
      "cell_type": "markdown",
      "source": [
        "$$\n",
        "\\tilde{\\mathbf{y}} = \\frac{1}{1 + e ^ {\\mathbf{x} \\cdot \\mathbf{w}}}\n",
        "$$"
      ],
      "metadata": {
        "id": "JiC7RHOU6XD0"
      }
    },
    {
      "cell_type": "code",
      "source": [
        "X = np.random.normal(size=(1000, 4))\n",
        "w = np.random.normal(size=(4, 1))"
      ],
      "metadata": {
        "id": "sTH9-qw-6Tmy"
      },
      "execution_count": null,
      "outputs": []
    },
    {
      "cell_type": "code",
      "source": [
        "%%timeit\n",
        "y = 1 / (1 + np.exp(X @ w))"
      ],
      "metadata": {
        "colab": {
          "base_uri": "https://localhost:8080/"
        },
        "id": "zu6JrJP98pw9",
        "outputId": "e920baf7-ca05-4a8c-e0b6-2ca4369cb511"
      },
      "execution_count": null,
      "outputs": [
        {
          "output_type": "stream",
          "name": "stdout",
          "text": [
            "19.1 µs ± 4.46 µs per loop (mean ± std. dev. of 7 runs, 100000 loops each)\n"
          ]
        }
      ]
    },
    {
      "cell_type": "code",
      "source": [
        "np.random.seed(0)\n",
        "print(np.random.uniform())\n",
        "print(np.random.uniform())"
      ],
      "metadata": {
        "colab": {
          "base_uri": "https://localhost:8080/"
        },
        "id": "kgWhLdza6_qH",
        "outputId": "3f910a4b-54d4-46ca-83db-6237f9589ded"
      },
      "execution_count": null,
      "outputs": [
        {
          "output_type": "stream",
          "name": "stdout",
          "text": [
            "0.5488135039273248\n",
            "0.7151893663724195\n"
          ]
        }
      ]
    },
    {
      "cell_type": "code",
      "source": [
        "import jax"
      ],
      "metadata": {
        "id": "ru1uJbPC7h3s"
      },
      "execution_count": null,
      "outputs": []
    },
    {
      "cell_type": "code",
      "source": [
        "rng = jax.random.PRNGKey(29)"
      ],
      "metadata": {
        "id": "PdEAa7-o7vCz"
      },
      "execution_count": null,
      "outputs": []
    },
    {
      "cell_type": "code",
      "source": [
        "rng"
      ],
      "metadata": {
        "colab": {
          "base_uri": "https://localhost:8080/"
        },
        "id": "azZkkP-O788R",
        "outputId": "1ed5868f-e2a3-4091-f35c-e743c1575631"
      },
      "execution_count": null,
      "outputs": [
        {
          "output_type": "execute_result",
          "data": {
            "text/plain": [
              "Array([ 0, 29], dtype=uint32)"
            ]
          },
          "metadata": {},
          "execution_count": 20
        }
      ]
    },
    {
      "cell_type": "code",
      "source": [
        "X = jax.random.normal(rng, shape=(1000, 4))\n",
        "w = jax.random.normal(rng, shape=(4, 1))"
      ],
      "metadata": {
        "id": "aIibVSlf7-G8"
      },
      "execution_count": null,
      "outputs": []
    },
    {
      "cell_type": "code",
      "source": [
        "%%timeit\n",
        "y = 1 / (1 + jnp.exp(X @ w))"
      ],
      "metadata": {
        "colab": {
          "base_uri": "https://localhost:8080/"
        },
        "id": "y3Rj6G258n8u",
        "outputId": "4bbe4543-e17a-4db8-8a16-d51d247f3dbe"
      },
      "execution_count": null,
      "outputs": [
        {
          "output_type": "stream",
          "name": "stdout",
          "text": [
            "491 µs ± 7.21 µs per loop (mean ± std. dev. of 7 runs, 1000 loops each)\n"
          ]
        }
      ]
    },
    {
      "cell_type": "code",
      "source": [
        "display(y)"
      ],
      "metadata": {
        "colab": {
          "base_uri": "https://localhost:8080/",
          "height": 1000
        },
        "id": "KHOE8ymX8aNB",
        "outputId": "610e648e-d409-47bb-e414-24ca98dda187"
      },
      "execution_count": null,
      "outputs": [
        {
          "output_type": "display_data",
          "data": {
            "text/plain": [
              "Array([[0.25732085],\n",
              "       [0.64654577],\n",
              "       [0.26718745],\n",
              "       [0.1586413 ],\n",
              "       [0.40495372],\n",
              "       [0.69273317],\n",
              "       [0.6196326 ],\n",
              "       [0.07979467],\n",
              "       [0.18387137],\n",
              "       [0.20598012],\n",
              "       [0.10552318],\n",
              "       [0.8123528 ],\n",
              "       [0.28880143],\n",
              "       [0.364185  ],\n",
              "       [0.10820898],\n",
              "       [0.9129003 ],\n",
              "       [0.17259337],\n",
              "       [0.15277931],\n",
              "       [0.2851974 ],\n",
              "       [0.07129908],\n",
              "       [0.7403625 ],\n",
              "       [0.301202  ],\n",
              "       [0.31299654],\n",
              "       [0.581603  ],\n",
              "       [0.9253153 ],\n",
              "       [0.92846245],\n",
              "       [0.15078412],\n",
              "       [0.37209237],\n",
              "       [0.40931803],\n",
              "       [0.49136472],\n",
              "       [0.5244108 ],\n",
              "       [0.24815759],\n",
              "       [0.8272702 ],\n",
              "       [0.22180907],\n",
              "       [0.22508048],\n",
              "       [0.2200889 ],\n",
              "       [0.7863726 ],\n",
              "       [0.48267946],\n",
              "       [0.5963495 ],\n",
              "       [0.4132139 ],\n",
              "       [0.0419618 ],\n",
              "       [0.6134144 ],\n",
              "       [0.8687102 ],\n",
              "       [0.84498805],\n",
              "       [0.34911162],\n",
              "       [0.48394078],\n",
              "       [0.55154175],\n",
              "       [0.89717567],\n",
              "       [0.898811  ],\n",
              "       [0.70983714],\n",
              "       [0.2923495 ],\n",
              "       [0.04941194],\n",
              "       [0.5893358 ],\n",
              "       [0.37540537],\n",
              "       [0.3486487 ],\n",
              "       [0.5769583 ],\n",
              "       [0.5921168 ],\n",
              "       [0.5594377 ],\n",
              "       [0.8273592 ],\n",
              "       [0.4809096 ],\n",
              "       [0.5154791 ],\n",
              "       [0.50746906],\n",
              "       [0.7383062 ],\n",
              "       [0.6761124 ],\n",
              "       [0.44259912],\n",
              "       [0.0627906 ],\n",
              "       [0.24269374],\n",
              "       [0.49418047],\n",
              "       [0.6791371 ],\n",
              "       [0.8565963 ],\n",
              "       [0.28535542],\n",
              "       [0.41811594],\n",
              "       [0.6359871 ],\n",
              "       [0.59353906],\n",
              "       [0.48721394],\n",
              "       [0.28512037],\n",
              "       [0.71484524],\n",
              "       [0.77357745],\n",
              "       [0.79508567],\n",
              "       [0.3822718 ],\n",
              "       [0.2937444 ],\n",
              "       [0.87908787],\n",
              "       [0.21529977],\n",
              "       [0.7021084 ],\n",
              "       [0.79236096],\n",
              "       [0.8054298 ],\n",
              "       [0.6972009 ],\n",
              "       [0.8301034 ],\n",
              "       [0.5510867 ],\n",
              "       [0.7944512 ],\n",
              "       [0.27423084],\n",
              "       [0.16153386],\n",
              "       [0.26273432],\n",
              "       [0.4062306 ],\n",
              "       [0.80243206],\n",
              "       [0.6602847 ],\n",
              "       [0.3567863 ],\n",
              "       [0.40506682],\n",
              "       [0.727397  ],\n",
              "       [0.32194194],\n",
              "       [0.3603909 ],\n",
              "       [0.34707305],\n",
              "       [0.5431319 ],\n",
              "       [0.58230907],\n",
              "       [0.26978716],\n",
              "       [0.61175454],\n",
              "       [0.4206365 ],\n",
              "       [0.39731523],\n",
              "       [0.54695004],\n",
              "       [0.698398  ],\n",
              "       [0.51941794],\n",
              "       [0.6995951 ],\n",
              "       [0.5242249 ],\n",
              "       [0.807811  ],\n",
              "       [0.6856178 ],\n",
              "       [0.7770593 ],\n",
              "       [0.28166008],\n",
              "       [0.5382802 ],\n",
              "       [0.82348776],\n",
              "       [0.53405553],\n",
              "       [0.73349243],\n",
              "       [0.8129246 ],\n",
              "       [0.90694785],\n",
              "       [0.8197919 ],\n",
              "       [0.58384967],\n",
              "       [0.49655813],\n",
              "       [0.45796025],\n",
              "       [0.31484568],\n",
              "       [0.62214714],\n",
              "       [0.8692986 ],\n",
              "       [0.22684556],\n",
              "       [0.35417962],\n",
              "       [0.49728227],\n",
              "       [0.2239455 ],\n",
              "       [0.8924046 ],\n",
              "       [0.63612056],\n",
              "       [0.2568236 ],\n",
              "       [0.5186555 ],\n",
              "       [0.14682762],\n",
              "       [0.23528673],\n",
              "       [0.6218587 ],\n",
              "       [0.5425082 ],\n",
              "       [0.65049   ],\n",
              "       [0.70664537],\n",
              "       [0.3076525 ],\n",
              "       [0.32836947],\n",
              "       [0.7225509 ],\n",
              "       [0.91352135],\n",
              "       [0.5681252 ],\n",
              "       [0.80201817],\n",
              "       [0.30413958],\n",
              "       [0.43080541],\n",
              "       [0.80455166],\n",
              "       [0.10995713],\n",
              "       [0.6468407 ],\n",
              "       [0.08989971],\n",
              "       [0.06531261],\n",
              "       [0.61434984],\n",
              "       [0.31975085],\n",
              "       [0.23952499],\n",
              "       [0.07145613],\n",
              "       [0.16451669],\n",
              "       [0.6012057 ],\n",
              "       [0.20271361],\n",
              "       [0.2600945 ],\n",
              "       [0.56144935],\n",
              "       [0.3955634 ],\n",
              "       [0.5583135 ],\n",
              "       [0.70584583],\n",
              "       [0.3607054 ],\n",
              "       [0.3354438 ],\n",
              "       [0.17266533],\n",
              "       [0.7112585 ],\n",
              "       [0.15636204],\n",
              "       [0.390306  ],\n",
              "       [0.19022298],\n",
              "       [0.49501744],\n",
              "       [0.32528326],\n",
              "       [0.42377204],\n",
              "       [0.31706756],\n",
              "       [0.37126246],\n",
              "       [0.54297984],\n",
              "       [0.4590618 ],\n",
              "       [0.20222826],\n",
              "       [0.47955588],\n",
              "       [0.46688744],\n",
              "       [0.6608624 ],\n",
              "       [0.6818851 ],\n",
              "       [0.5841349 ],\n",
              "       [0.13557911],\n",
              "       [0.11081146],\n",
              "       [0.5370918 ],\n",
              "       [0.1398547 ],\n",
              "       [0.8432261 ],\n",
              "       [0.3660567 ],\n",
              "       [0.5614512 ],\n",
              "       [0.50513506],\n",
              "       [0.42304346],\n",
              "       [0.46631694],\n",
              "       [0.9460531 ],\n",
              "       [0.7189461 ],\n",
              "       [0.7076664 ],\n",
              "       [0.7543875 ],\n",
              "       [0.47727576],\n",
              "       [0.48702675],\n",
              "       [0.7646923 ],\n",
              "       [0.5862238 ],\n",
              "       [0.8433534 ],\n",
              "       [0.8188862 ],\n",
              "       [0.3306504 ],\n",
              "       [0.6930049 ],\n",
              "       [0.06217514],\n",
              "       [0.70260835],\n",
              "       [0.3686019 ],\n",
              "       [0.88719565],\n",
              "       [0.41421306],\n",
              "       [0.06138161],\n",
              "       [0.3258349 ],\n",
              "       [0.05635773],\n",
              "       [0.8448786 ],\n",
              "       [0.36782002],\n",
              "       [0.33417517],\n",
              "       [0.58517236],\n",
              "       [0.7505005 ],\n",
              "       [0.6155645 ],\n",
              "       [0.22802167],\n",
              "       [0.26913077],\n",
              "       [0.6930686 ],\n",
              "       [0.9398271 ],\n",
              "       [0.70593905],\n",
              "       [0.5179559 ],\n",
              "       [0.8868325 ],\n",
              "       [0.91669047],\n",
              "       [0.5083274 ],\n",
              "       [0.94458073],\n",
              "       [0.2058652 ],\n",
              "       [0.4623584 ],\n",
              "       [0.6887642 ],\n",
              "       [0.83413327],\n",
              "       [0.6551052 ],\n",
              "       [0.6242556 ],\n",
              "       [0.35009184],\n",
              "       [0.3824309 ],\n",
              "       [0.8488594 ],\n",
              "       [0.76348716],\n",
              "       [0.34641558],\n",
              "       [0.7137235 ],\n",
              "       [0.4582814 ],\n",
              "       [0.5046582 ],\n",
              "       [0.55656487],\n",
              "       [0.02638336],\n",
              "       [0.37866735],\n",
              "       [0.49975574],\n",
              "       [0.36255652],\n",
              "       [0.5203196 ],\n",
              "       [0.07706196],\n",
              "       [0.22595976],\n",
              "       [0.62694854],\n",
              "       [0.3650772 ],\n",
              "       [0.86569947],\n",
              "       [0.54710543],\n",
              "       [0.70660895],\n",
              "       [0.5875443 ],\n",
              "       [0.77842206],\n",
              "       [0.5412355 ],\n",
              "       [0.13304166],\n",
              "       [0.9213354 ],\n",
              "       [0.62841284],\n",
              "       [0.69367176],\n",
              "       [0.48403203],\n",
              "       [0.66023004],\n",
              "       [0.11442454],\n",
              "       [0.67382866],\n",
              "       [0.49556962],\n",
              "       [0.32449514],\n",
              "       [0.17325817],\n",
              "       [0.341724  ],\n",
              "       [0.20171304],\n",
              "       [0.29392633],\n",
              "       [0.7327479 ],\n",
              "       [0.23717147],\n",
              "       [0.73583746],\n",
              "       [0.66075593],\n",
              "       [0.7017587 ],\n",
              "       [0.38228628],\n",
              "       [0.274774  ],\n",
              "       [0.81585807],\n",
              "       [0.30610606],\n",
              "       [0.6669582 ],\n",
              "       [0.65968806],\n",
              "       [0.20241645],\n",
              "       [0.30146828],\n",
              "       [0.3669013 ],\n",
              "       [0.6967922 ],\n",
              "       [0.21680194],\n",
              "       [0.49665776],\n",
              "       [0.43478227],\n",
              "       [0.5979462 ],\n",
              "       [0.87343657],\n",
              "       [0.3802663 ],\n",
              "       [0.38550103],\n",
              "       [0.7909815 ],\n",
              "       [0.7465903 ],\n",
              "       [0.34997717],\n",
              "       [0.8495607 ],\n",
              "       [0.42119706],\n",
              "       [0.3265391 ],\n",
              "       [0.10318899],\n",
              "       [0.39628533],\n",
              "       [0.74495375],\n",
              "       [0.4554741 ],\n",
              "       [0.3702666 ],\n",
              "       [0.14116788],\n",
              "       [0.23883687],\n",
              "       [0.5517626 ],\n",
              "       [0.3411152 ],\n",
              "       [0.71944445],\n",
              "       [0.1136266 ],\n",
              "       [0.38865736],\n",
              "       [0.14055587],\n",
              "       [0.88623744],\n",
              "       [0.906306  ],\n",
              "       [0.17180763],\n",
              "       [0.21554314],\n",
              "       [0.22101165],\n",
              "       [0.5953965 ],\n",
              "       [0.31437176],\n",
              "       [0.4294396 ],\n",
              "       [0.55111194],\n",
              "       [0.9839558 ],\n",
              "       [0.5062565 ],\n",
              "       [0.3543953 ],\n",
              "       [0.24365225],\n",
              "       [0.26851013],\n",
              "       [0.97431785],\n",
              "       [0.08463214],\n",
              "       [0.5716966 ],\n",
              "       [0.9091195 ],\n",
              "       [0.9471822 ],\n",
              "       [0.6895206 ],\n",
              "       [0.5209575 ],\n",
              "       [0.53203374],\n",
              "       [0.31710353],\n",
              "       [0.496231  ],\n",
              "       [0.2876715 ],\n",
              "       [0.8145054 ],\n",
              "       [0.35087955],\n",
              "       [0.32972863],\n",
              "       [0.65326357],\n",
              "       [0.55423504],\n",
              "       [0.9437556 ],\n",
              "       [0.6799859 ],\n",
              "       [0.70549124],\n",
              "       [0.09996037],\n",
              "       [0.7791733 ],\n",
              "       [0.53742284],\n",
              "       [0.19438976],\n",
              "       [0.7760405 ],\n",
              "       [0.1945816 ],\n",
              "       [0.4924352 ],\n",
              "       [0.48926517],\n",
              "       [0.41589305],\n",
              "       [0.66997725],\n",
              "       [0.6121731 ],\n",
              "       [0.47053605],\n",
              "       [0.5439695 ],\n",
              "       [0.49496767],\n",
              "       [0.26482382],\n",
              "       [0.8193476 ],\n",
              "       [0.50119865],\n",
              "       [0.46178198],\n",
              "       [0.29498482],\n",
              "       [0.32488328],\n",
              "       [0.91223866],\n",
              "       [0.3708483 ],\n",
              "       [0.3715631 ],\n",
              "       [0.7983726 ],\n",
              "       [0.44161046],\n",
              "       [0.74129826],\n",
              "       [0.8350951 ],\n",
              "       [0.66032636],\n",
              "       [0.64509463],\n",
              "       [0.25974667],\n",
              "       [0.2588629 ],\n",
              "       [0.24471873],\n",
              "       [0.36450827],\n",
              "       [0.89223546],\n",
              "       [0.9082192 ],\n",
              "       [0.23237146],\n",
              "       [0.42363122],\n",
              "       [0.72544014],\n",
              "       [0.5394839 ],\n",
              "       [0.8095697 ],\n",
              "       [0.6745547 ],\n",
              "       [0.6821141 ],\n",
              "       [0.6621602 ],\n",
              "       [0.25811017],\n",
              "       [0.24389058],\n",
              "       [0.53146815],\n",
              "       [0.17255875],\n",
              "       [0.17665455],\n",
              "       [0.22920014],\n",
              "       [0.6941971 ],\n",
              "       [0.24048105],\n",
              "       [0.5902586 ],\n",
              "       [0.5337354 ],\n",
              "       [0.6223317 ],\n",
              "       [0.54250413],\n",
              "       [0.39510617],\n",
              "       [0.17420939],\n",
              "       [0.3256245 ],\n",
              "       [0.4771573 ],\n",
              "       [0.66539687],\n",
              "       [0.57815725],\n",
              "       [0.782561  ],\n",
              "       [0.65862024],\n",
              "       [0.33476985],\n",
              "       [0.8278789 ],\n",
              "       [0.7902403 ],\n",
              "       [0.3795621 ],\n",
              "       [0.28341383],\n",
              "       [0.7708552 ],\n",
              "       [0.47788325],\n",
              "       [0.5260963 ],\n",
              "       [0.9487127 ],\n",
              "       [0.59394354],\n",
              "       [0.6281433 ],\n",
              "       [0.70908785],\n",
              "       [0.679673  ],\n",
              "       [0.6972426 ],\n",
              "       [0.7179928 ],\n",
              "       [0.05098879],\n",
              "       [0.47477356],\n",
              "       [0.18563575],\n",
              "       [0.0863566 ],\n",
              "       [0.24411203],\n",
              "       [0.5792252 ],\n",
              "       [0.24934304],\n",
              "       [0.08125658],\n",
              "       [0.2281704 ],\n",
              "       [0.47481403],\n",
              "       [0.79009473],\n",
              "       [0.39202666],\n",
              "       [0.40871057],\n",
              "       [0.75997007],\n",
              "       [0.25980905],\n",
              "       [0.4435262 ],\n",
              "       [0.73356974],\n",
              "       [0.63036543],\n",
              "       [0.39903805],\n",
              "       [0.15128838],\n",
              "       [0.6215712 ],\n",
              "       [0.5705726 ],\n",
              "       [0.4316564 ],\n",
              "       [0.43033245],\n",
              "       [0.4635134 ],\n",
              "       [0.65375596],\n",
              "       [0.31789848],\n",
              "       [0.25164455],\n",
              "       [0.47143358],\n",
              "       [0.89141905],\n",
              "       [0.8386783 ],\n",
              "       [0.5064767 ],\n",
              "       [0.6787055 ],\n",
              "       [0.4508835 ],\n",
              "       [0.276226  ],\n",
              "       [0.67447555],\n",
              "       [0.6986754 ],\n",
              "       [0.14154199],\n",
              "       [0.24272567],\n",
              "       [0.15888068],\n",
              "       [0.3163985 ],\n",
              "       [0.7854012 ],\n",
              "       [0.21069022],\n",
              "       [0.31141734],\n",
              "       [0.1657107 ],\n",
              "       [0.31330296],\n",
              "       [0.2095481 ],\n",
              "       [0.06975295],\n",
              "       [0.18086535],\n",
              "       [0.05514393],\n",
              "       [0.49685043],\n",
              "       [0.5031451 ],\n",
              "       [0.7321773 ],\n",
              "       [0.73082864],\n",
              "       [0.49962044],\n",
              "       [0.76155657],\n",
              "       [0.3826143 ],\n",
              "       [0.19650088],\n",
              "       [0.944399  ],\n",
              "       [0.70571   ],\n",
              "       [0.6474099 ],\n",
              "       [0.17614253],\n",
              "       [0.8863695 ],\n",
              "       [0.6128763 ],\n",
              "       [0.3892862 ],\n",
              "       [0.5182964 ],\n",
              "       [0.52825874],\n",
              "       [0.63466746],\n",
              "       [0.22134572],\n",
              "       [0.82360345],\n",
              "       [0.68267065],\n",
              "       [0.31078875],\n",
              "       [0.7036686 ],\n",
              "       [0.6808516 ],\n",
              "       [0.85328853],\n",
              "       [0.12335414],\n",
              "       [0.6958843 ],\n",
              "       [0.3058626 ],\n",
              "       [0.18450953],\n",
              "       [0.5017524 ],\n",
              "       [0.87336403],\n",
              "       [0.50951153],\n",
              "       [0.2093968 ],\n",
              "       [0.5305531 ],\n",
              "       [0.22640692],\n",
              "       [0.78850114],\n",
              "       [0.4102116 ],\n",
              "       [0.40930605],\n",
              "       [0.54523635],\n",
              "       [0.19923091],\n",
              "       [0.74001163],\n",
              "       [0.926754  ],\n",
              "       [0.46621084],\n",
              "       [0.66740906],\n",
              "       [0.3475796 ],\n",
              "       [0.52110666],\n",
              "       [0.7155718 ],\n",
              "       [0.5833964 ],\n",
              "       [0.46960127],\n",
              "       [0.752592  ],\n",
              "       [0.7416794 ],\n",
              "       [0.8482463 ],\n",
              "       [0.71439046],\n",
              "       [0.24193385],\n",
              "       [0.1483139 ],\n",
              "       [0.23200412],\n",
              "       [0.2599496 ],\n",
              "       [0.5982101 ],\n",
              "       [0.768279  ],\n",
              "       [0.81423897],\n",
              "       [0.48601964],\n",
              "       [0.26967892],\n",
              "       [0.51579034],\n",
              "       [0.04266739],\n",
              "       [0.15842423],\n",
              "       [0.53786993],\n",
              "       [0.70178026],\n",
              "       [0.33454958],\n",
              "       [0.20484002],\n",
              "       [0.6594367 ],\n",
              "       [0.60384023],\n",
              "       [0.46367672],\n",
              "       [0.07387158],\n",
              "       [0.7679172 ],\n",
              "       [0.51826155],\n",
              "       [0.2461888 ],\n",
              "       [0.10915783],\n",
              "       [0.91822934],\n",
              "       [0.35715884],\n",
              "       [0.21469939],\n",
              "       [0.23987755],\n",
              "       [0.40935054],\n",
              "       [0.8651154 ],\n",
              "       [0.805495  ],\n",
              "       [0.31559098],\n",
              "       [0.5260503 ],\n",
              "       [0.5306881 ],\n",
              "       [0.8949245 ],\n",
              "       [0.18357486],\n",
              "       [0.9184762 ],\n",
              "       [0.7788355 ],\n",
              "       [0.0591209 ],\n",
              "       [0.5563167 ],\n",
              "       [0.43120417],\n",
              "       [0.8136888 ],\n",
              "       [0.09599846],\n",
              "       [0.59589535],\n",
              "       [0.08028933],\n",
              "       [0.5990662 ],\n",
              "       [0.54135793],\n",
              "       [0.11610093],\n",
              "       [0.27389282],\n",
              "       [0.301136  ],\n",
              "       [0.7815987 ],\n",
              "       [0.23020127],\n",
              "       [0.7488112 ],\n",
              "       [0.12658998],\n",
              "       [0.32000053],\n",
              "       [0.79100454],\n",
              "       [0.10221888],\n",
              "       [0.83827084],\n",
              "       [0.6662487 ],\n",
              "       [0.30155408],\n",
              "       [0.81080955],\n",
              "       [0.6494164 ],\n",
              "       [0.7749697 ],\n",
              "       [0.9632399 ],\n",
              "       [0.29630512],\n",
              "       [0.38156745],\n",
              "       [0.5710703 ],\n",
              "       [0.10630507],\n",
              "       [0.7030375 ],\n",
              "       [0.44504958],\n",
              "       [0.8100162 ],\n",
              "       [0.30692202],\n",
              "       [0.14908038],\n",
              "       [0.5884075 ],\n",
              "       [0.30858812],\n",
              "       [0.07355418],\n",
              "       [0.5123886 ],\n",
              "       [0.39957672],\n",
              "       [0.20877488],\n",
              "       [0.37537155],\n",
              "       [0.36245018],\n",
              "       [0.7201503 ],\n",
              "       [0.17983413],\n",
              "       [0.21569172],\n",
              "       [0.8221309 ],\n",
              "       [0.26636383],\n",
              "       [0.24350071],\n",
              "       [0.7312878 ],\n",
              "       [0.52775013],\n",
              "       [0.478587  ],\n",
              "       [0.0842659 ],\n",
              "       [0.60068995],\n",
              "       [0.7553487 ],\n",
              "       [0.24938965],\n",
              "       [0.852667  ],\n",
              "       [0.54471004],\n",
              "       [0.7443696 ],\n",
              "       [0.31018698],\n",
              "       [0.15062061],\n",
              "       [0.69441736],\n",
              "       [0.773045  ],\n",
              "       [0.83921814],\n",
              "       [0.8848148 ],\n",
              "       [0.4637741 ],\n",
              "       [0.8055093 ],\n",
              "       [0.62939185],\n",
              "       [0.67701846],\n",
              "       [0.09694318],\n",
              "       [0.09921577],\n",
              "       [0.73710006],\n",
              "       [0.87991166],\n",
              "       [0.9009709 ],\n",
              "       [0.21326055],\n",
              "       [0.2721111 ],\n",
              "       [0.6469496 ],\n",
              "       [0.28585863],\n",
              "       [0.13399673],\n",
              "       [0.47231904],\n",
              "       [0.5657946 ],\n",
              "       [0.75209343],\n",
              "       [0.6769309 ],\n",
              "       [0.15325806],\n",
              "       [0.7173129 ],\n",
              "       [0.46607843],\n",
              "       [0.39363167],\n",
              "       [0.51076186],\n",
              "       [0.5411346 ],\n",
              "       [0.08720815],\n",
              "       [0.87011355],\n",
              "       [0.6929129 ],\n",
              "       [0.52663624],\n",
              "       [0.16187629],\n",
              "       [0.8472735 ],\n",
              "       [0.13451743],\n",
              "       [0.47026858],\n",
              "       [0.48990947],\n",
              "       [0.45619538],\n",
              "       [0.09537201],\n",
              "       [0.7873302 ],\n",
              "       [0.8099997 ],\n",
              "       [0.17891294],\n",
              "       [0.8149308 ],\n",
              "       [0.02667894],\n",
              "       [0.51227784],\n",
              "       [0.28039095],\n",
              "       [0.6642651 ],\n",
              "       [0.58397985],\n",
              "       [0.31120965],\n",
              "       [0.38455287],\n",
              "       [0.35745835],\n",
              "       [0.90733427],\n",
              "       [0.8262036 ],\n",
              "       [0.23810452],\n",
              "       [0.8777299 ],\n",
              "       [0.49868786],\n",
              "       [0.5152    ],\n",
              "       [0.4602724 ],\n",
              "       [0.4249698 ],\n",
              "       [0.640675  ],\n",
              "       [0.30823743],\n",
              "       [0.45919412],\n",
              "       [0.4563715 ],\n",
              "       [0.59335214],\n",
              "       [0.15715575],\n",
              "       [0.5761021 ],\n",
              "       [0.10963179],\n",
              "       [0.7567596 ],\n",
              "       [0.39933097],\n",
              "       [0.449855  ],\n",
              "       [0.5072995 ],\n",
              "       [0.4084959 ],\n",
              "       [0.40943962],\n",
              "       [0.29047695],\n",
              "       [0.68914753],\n",
              "       [0.57381654],\n",
              "       [0.6052846 ],\n",
              "       [0.30423716],\n",
              "       [0.3628945 ],\n",
              "       [0.6741857 ],\n",
              "       [0.5144608 ],\n",
              "       [0.6840204 ],\n",
              "       [0.46945128],\n",
              "       [0.589052  ],\n",
              "       [0.3577627 ],\n",
              "       [0.756468  ],\n",
              "       [0.14919195],\n",
              "       [0.74913925],\n",
              "       [0.84142584],\n",
              "       [0.750624  ],\n",
              "       [0.5780843 ],\n",
              "       [0.4461586 ],\n",
              "       [0.6854136 ],\n",
              "       [0.57306963],\n",
              "       [0.48509997],\n",
              "       [0.76484424],\n",
              "       [0.83511865],\n",
              "       [0.09930856],\n",
              "       [0.5851124 ],\n",
              "       [0.53552914],\n",
              "       [0.5084139 ],\n",
              "       [0.236816  ],\n",
              "       [0.39020786],\n",
              "       [0.61539   ],\n",
              "       [0.37372756],\n",
              "       [0.37644014],\n",
              "       [0.29050457],\n",
              "       [0.29275772],\n",
              "       [0.3089762 ],\n",
              "       [0.28018835],\n",
              "       [0.27888632],\n",
              "       [0.6780366 ],\n",
              "       [0.40386045],\n",
              "       [0.49764612],\n",
              "       [0.76656836],\n",
              "       [0.4581677 ],\n",
              "       [0.46497467],\n",
              "       [0.7097128 ],\n",
              "       [0.86899596],\n",
              "       [0.4297523 ],\n",
              "       [0.6975251 ],\n",
              "       [0.8970159 ],\n",
              "       [0.39465705],\n",
              "       [0.1815097 ],\n",
              "       [0.41847393],\n",
              "       [0.7612509 ],\n",
              "       [0.85363144],\n",
              "       [0.8124165 ],\n",
              "       [0.7436505 ],\n",
              "       [0.6596715 ],\n",
              "       [0.8359948 ],\n",
              "       [0.47991738],\n",
              "       [0.8251168 ],\n",
              "       [0.5298096 ],\n",
              "       [0.24578366],\n",
              "       [0.40633363],\n",
              "       [0.40490085],\n",
              "       [0.35089943],\n",
              "       [0.36472267],\n",
              "       [0.49393955],\n",
              "       [0.21947922],\n",
              "       [0.34696957],\n",
              "       [0.73307496],\n",
              "       [0.36946076],\n",
              "       [0.4484173 ],\n",
              "       [0.49029762],\n",
              "       [0.54889923],\n",
              "       [0.18940127],\n",
              "       [0.7620584 ],\n",
              "       [0.16244769],\n",
              "       [0.16161247],\n",
              "       [0.41257027],\n",
              "       [0.30267608],\n",
              "       [0.6909645 ],\n",
              "       [0.86108196],\n",
              "       [0.71130395],\n",
              "       [0.76024824],\n",
              "       [0.23854643],\n",
              "       [0.6873983 ],\n",
              "       [0.8131419 ],\n",
              "       [0.62225974],\n",
              "       [0.57459784],\n",
              "       [0.44350174],\n",
              "       [0.33646816],\n",
              "       [0.22263232],\n",
              "       [0.6590658 ],\n",
              "       [0.40516838],\n",
              "       [0.27995038],\n",
              "       [0.56616473],\n",
              "       [0.01209741],\n",
              "       [0.5216582 ],\n",
              "       [0.7930476 ],\n",
              "       [0.05285736],\n",
              "       [0.57949555],\n",
              "       [0.63106155],\n",
              "       [0.22615948],\n",
              "       [0.7701092 ],\n",
              "       [0.62922496],\n",
              "       [0.7225911 ],\n",
              "       [0.4631366 ],\n",
              "       [0.5561549 ],\n",
              "       [0.6195732 ],\n",
              "       [0.6419829 ],\n",
              "       [0.43985638],\n",
              "       [0.6464761 ],\n",
              "       [0.8351944 ],\n",
              "       [0.29710966],\n",
              "       [0.52818143],\n",
              "       [0.70559514],\n",
              "       [0.77214   ],\n",
              "       [0.83231825],\n",
              "       [0.713807  ],\n",
              "       [0.23929511],\n",
              "       [0.5700699 ],\n",
              "       [0.34097967],\n",
              "       [0.40580785],\n",
              "       [0.430885  ],\n",
              "       [0.09991257],\n",
              "       [0.34434628],\n",
              "       [0.7898849 ],\n",
              "       [0.75437385],\n",
              "       [0.640372  ],\n",
              "       [0.2236746 ],\n",
              "       [0.39778936],\n",
              "       [0.19725466],\n",
              "       [0.71146554],\n",
              "       [0.45317715],\n",
              "       [0.7761815 ],\n",
              "       [0.32516766],\n",
              "       [0.16524348],\n",
              "       [0.37452474],\n",
              "       [0.64813644],\n",
              "       [0.25657886],\n",
              "       [0.25441015],\n",
              "       [0.38538417],\n",
              "       [0.15230817],\n",
              "       [0.38601768],\n",
              "       [0.32851735],\n",
              "       [0.0324065 ],\n",
              "       [0.8141194 ],\n",
              "       [0.44045883],\n",
              "       [0.16295628],\n",
              "       [0.42976823],\n",
              "       [0.33209792],\n",
              "       [0.10595732],\n",
              "       [0.06134618],\n",
              "       [0.5925172 ],\n",
              "       [0.5326048 ],\n",
              "       [0.5966448 ],\n",
              "       [0.8490271 ],\n",
              "       [0.15534827],\n",
              "       [0.7992013 ],\n",
              "       [0.35498902],\n",
              "       [0.3970054 ],\n",
              "       [0.2200904 ],\n",
              "       [0.3718474 ],\n",
              "       [0.28877497],\n",
              "       [0.9552961 ],\n",
              "       [0.2972895 ],\n",
              "       [0.7600764 ],\n",
              "       [0.08095425],\n",
              "       [0.9072163 ],\n",
              "       [0.689524  ],\n",
              "       [0.4583228 ],\n",
              "       [0.7076613 ],\n",
              "       [0.6479154 ],\n",
              "       [0.9299166 ],\n",
              "       [0.6949558 ],\n",
              "       [0.593106  ],\n",
              "       [0.2908965 ],\n",
              "       [0.9062975 ],\n",
              "       [0.8767324 ],\n",
              "       [0.55780584],\n",
              "       [0.25571877],\n",
              "       [0.5119193 ],\n",
              "       [0.40088713],\n",
              "       [0.72548914],\n",
              "       [0.64985365],\n",
              "       [0.69767535],\n",
              "       [0.67585707],\n",
              "       [0.8727123 ],\n",
              "       [0.71704906],\n",
              "       [0.8226531 ],\n",
              "       [0.8811369 ],\n",
              "       [0.6302169 ],\n",
              "       [0.7342372 ],\n",
              "       [0.7906678 ],\n",
              "       [0.251739  ],\n",
              "       [0.46219906],\n",
              "       [0.34241426],\n",
              "       [0.198889  ],\n",
              "       [0.36560056],\n",
              "       [0.43134004],\n",
              "       [0.22048694],\n",
              "       [0.43548855],\n",
              "       [0.40518945],\n",
              "       [0.7475833 ],\n",
              "       [0.4917509 ],\n",
              "       [0.91229826],\n",
              "       [0.11341165],\n",
              "       [0.35004252],\n",
              "       [0.49044266],\n",
              "       [0.35235238],\n",
              "       [0.26218134],\n",
              "       [0.5142305 ],\n",
              "       [0.41470456],\n",
              "       [0.24672247],\n",
              "       [0.8862089 ],\n",
              "       [0.41983008],\n",
              "       [0.77399445],\n",
              "       [0.6936733 ],\n",
              "       [0.81564677],\n",
              "       [0.26902705],\n",
              "       [0.699258  ],\n",
              "       [0.49975026],\n",
              "       [0.957569  ],\n",
              "       [0.37108094],\n",
              "       [0.24645281],\n",
              "       [0.37733036],\n",
              "       [0.47425494],\n",
              "       [0.04007341],\n",
              "       [0.9227612 ],\n",
              "       [0.16205433],\n",
              "       [0.6441029 ],\n",
              "       [0.8354227 ],\n",
              "       [0.25792703],\n",
              "       [0.40944606],\n",
              "       [0.32267624],\n",
              "       [0.44470966],\n",
              "       [0.6758925 ],\n",
              "       [0.90845233],\n",
              "       [0.11329199],\n",
              "       [0.44284287],\n",
              "       [0.19506878],\n",
              "       [0.89438796],\n",
              "       [0.39838412],\n",
              "       [0.6463425 ],\n",
              "       [0.30605236],\n",
              "       [0.46584734],\n",
              "       [0.37792644],\n",
              "       [0.3665591 ],\n",
              "       [0.74747616],\n",
              "       [0.84713   ],\n",
              "       [0.10371944],\n",
              "       [0.07708801],\n",
              "       [0.50761336],\n",
              "       [0.20609769],\n",
              "       [0.6107866 ],\n",
              "       [0.22652076],\n",
              "       [0.1050596 ],\n",
              "       [0.74491996],\n",
              "       [0.5509592 ],\n",
              "       [0.4746218 ],\n",
              "       [0.37565744],\n",
              "       [0.47251925],\n",
              "       [0.09383319],\n",
              "       [0.53520405],\n",
              "       [0.23147877],\n",
              "       [0.6391456 ],\n",
              "       [0.24329107],\n",
              "       [0.59443766],\n",
              "       [0.4828039 ],\n",
              "       [0.6068931 ],\n",
              "       [0.21396397],\n",
              "       [0.5573795 ],\n",
              "       [0.22311436],\n",
              "       [0.33605692],\n",
              "       [0.6409721 ],\n",
              "       [0.17865776],\n",
              "       [0.7005795 ],\n",
              "       [0.13944538],\n",
              "       [0.7001726 ],\n",
              "       [0.74156785],\n",
              "       [0.45243013],\n",
              "       [0.17488843],\n",
              "       [0.6585293 ],\n",
              "       [0.48125315],\n",
              "       [0.73111826],\n",
              "       [0.7547616 ],\n",
              "       [0.88183546],\n",
              "       [0.34316635],\n",
              "       [0.7343997 ],\n",
              "       [0.88832253],\n",
              "       [0.44614598],\n",
              "       [0.86923116],\n",
              "       [0.57061046],\n",
              "       [0.04633866]], dtype=float32)"
            ]
          },
          "metadata": {}
        }
      ]
    },
    {
      "cell_type": "code",
      "source": [
        "X = np.random.normal(size=(1000, 1000))"
      ],
      "metadata": {
        "id": "v3r2QjRe8bPH"
      },
      "execution_count": null,
      "outputs": []
    },
    {
      "cell_type": "code",
      "source": [
        "%%timeit\n",
        "X @ X"
      ],
      "metadata": {
        "colab": {
          "base_uri": "https://localhost:8080/"
        },
        "id": "4GmnlpMQ9LuP",
        "outputId": "d157f62e-58a6-45ef-b835-6c78a715f735"
      },
      "execution_count": null,
      "outputs": [
        {
          "output_type": "stream",
          "name": "stdout",
          "text": [
            "55.4 ms ± 3.25 ms per loop (mean ± std. dev. of 7 runs, 10 loops each)\n"
          ]
        }
      ]
    },
    {
      "cell_type": "code",
      "source": [
        "X = jax.random.normal(rng, shape=(1000, 1000))"
      ],
      "metadata": {
        "id": "tsdh705z9OjV"
      },
      "execution_count": null,
      "outputs": []
    },
    {
      "cell_type": "code",
      "source": [
        "%%timeit\n",
        "X @ X"
      ],
      "metadata": {
        "colab": {
          "base_uri": "https://localhost:8080/"
        },
        "id": "Jb56c8CN9Tta",
        "outputId": "d3f59fdb-1bda-47f0-82d6-8ea0fd897da7"
      },
      "execution_count": null,
      "outputs": [
        {
          "output_type": "stream",
          "name": "stdout",
          "text": [
            "107 µs ± 48.9 µs per loop (mean ± std. dev. of 7 runs, 1 loop each)\n"
          ]
        }
      ]
    },
    {
      "cell_type": "code",
      "source": [
        "55 * 1000 / 107"
      ],
      "metadata": {
        "colab": {
          "base_uri": "https://localhost:8080/"
        },
        "id": "yEylYy1q9YJ7",
        "outputId": "dc1e0e3e-603c-4002-ada1-f0bf95d50474"
      },
      "execution_count": null,
      "outputs": [
        {
          "output_type": "execute_result",
          "data": {
            "text/plain": [
              "514.018691588785"
            ]
          },
          "metadata": {},
          "execution_count": 33
        }
      ]
    },
    {
      "cell_type": "code",
      "source": [
        "from jax import jit\n",
        "from jax.typing import ArrayLike"
      ],
      "metadata": {
        "id": "HdeX330n9m_d"
      },
      "execution_count": null,
      "outputs": []
    },
    {
      "cell_type": "code",
      "source": [
        "def sum_vect(n: int) -> ArrayLike:\n",
        "    x = jax.random.normal(rng, shape=(1, 1000))\n",
        "    for i in range(n):\n",
        "        x = x * jax.random.normal(rng, shape=(1, 1000))\n",
        "    return x"
      ],
      "metadata": {
        "id": "-1kLGfiq-MNn"
      },
      "execution_count": null,
      "outputs": []
    },
    {
      "cell_type": "code",
      "source": [
        "%%timeit\n",
        "sum_vect(100)"
      ],
      "metadata": {
        "colab": {
          "base_uri": "https://localhost:8080/"
        },
        "id": "RE7Mqe1B-yxi",
        "outputId": "f1a258ab-637c-4115-cf4e-c820bd0a7223"
      },
      "execution_count": null,
      "outputs": [
        {
          "output_type": "stream",
          "name": "stdout",
          "text": [
            "79.5 ms ± 10.5 ms per loop (mean ± std. dev. of 7 runs, 10 loops each)\n"
          ]
        }
      ]
    },
    {
      "cell_type": "code",
      "source": [
        "@jit\n",
        "def sum_vect2(n: int) -> ArrayLike:\n",
        "    x = jax.random.normal(rng, shape=(1, 1000))\n",
        "    for i in range(n):\n",
        "        x = x * jax.random.normal(rng, shape=(1, 1000))\n",
        "    return x"
      ],
      "metadata": {
        "id": "DBpdMDNU-0af"
      },
      "execution_count": null,
      "outputs": []
    },
    {
      "cell_type": "code",
      "source": [
        "%%timeit\n",
        "sum_vect(100)"
      ],
      "metadata": {
        "colab": {
          "base_uri": "https://localhost:8080/"
        },
        "id": "MHjPuwZG_HDQ",
        "outputId": "d27bee37-dbb4-45c6-c609-4b0dddb7f11e"
      },
      "execution_count": null,
      "outputs": [
        {
          "output_type": "stream",
          "name": "stdout",
          "text": [
            "73.7 ms ± 3.48 ms per loop (mean ± std. dev. of 7 runs, 10 loops each)\n"
          ]
        }
      ]
    },
    {
      "cell_type": "markdown",
      "source": [
        "$$\n",
        "f(x) = x ^ 2 + \\frac{1}{x} + \\log{x}\\\\\n",
        "\\frac{df}{dx} = 2x - x ^ {-2} + x ^ {-1}\n",
        "$$"
      ],
      "metadata": {
        "id": "D9rIHydIAu-T"
      }
    },
    {
      "cell_type": "code",
      "source": [
        "def df_dx(x: float) -> float:\n",
        "    return 2 * x - x ** (-2) + x ** -1"
      ],
      "metadata": {
        "id": "CP6lcGIS_LED"
      },
      "execution_count": null,
      "outputs": []
    },
    {
      "cell_type": "code",
      "source": [
        "df_dx(3)"
      ],
      "metadata": {
        "colab": {
          "base_uri": "https://localhost:8080/"
        },
        "id": "aEGORvS7BM7D",
        "outputId": "8e198484-e93f-47a9-b64b-cd85408bcd0f"
      },
      "execution_count": null,
      "outputs": [
        {
          "output_type": "execute_result",
          "data": {
            "text/plain": [
              "6.222222222222222"
            ]
          },
          "metadata": {},
          "execution_count": 53
        }
      ]
    },
    {
      "cell_type": "code",
      "source": [
        "from jax import grad"
      ],
      "metadata": {
        "id": "JnNrdLMABPmz"
      },
      "execution_count": null,
      "outputs": []
    },
    {
      "cell_type": "code",
      "source": [
        "def f(x):\n",
        "    return (x ** 2 + x ** (-1) + jnp.log(x)).sum()\n",
        "\n",
        "grad_f = grad(f)"
      ],
      "metadata": {
        "id": "XhpnRCW3BUEF"
      },
      "execution_count": null,
      "outputs": []
    },
    {
      "cell_type": "code",
      "source": [
        "x = jnp.array([1.0])"
      ],
      "metadata": {
        "id": "3Yk9zlYPBupg"
      },
      "execution_count": null,
      "outputs": []
    },
    {
      "cell_type": "code",
      "source": [
        "f(x)"
      ],
      "metadata": {
        "colab": {
          "base_uri": "https://localhost:8080/"
        },
        "id": "lyYOJqOKBw2H",
        "outputId": "eb573dbe-b334-4ee6-e69f-2a1cdfe9e1ba"
      },
      "execution_count": null,
      "outputs": [
        {
          "output_type": "execute_result",
          "data": {
            "text/plain": [
              "Array(2., dtype=float32)"
            ]
          },
          "metadata": {},
          "execution_count": 51
        }
      ]
    },
    {
      "cell_type": "code",
      "source": [
        "grad_f(jnp.array([3.0]))"
      ],
      "metadata": {
        "colab": {
          "base_uri": "https://localhost:8080/"
        },
        "id": "bewsnp6IBjW9",
        "outputId": "53e67f2d-83fd-49a4-a3d5-819224e82ebe"
      },
      "execution_count": null,
      "outputs": [
        {
          "output_type": "execute_result",
          "data": {
            "text/plain": [
              "Array([6.2222223], dtype=float32)"
            ]
          },
          "metadata": {},
          "execution_count": 54
        }
      ]
    },
    {
      "cell_type": "code",
      "source": [
        "jax.__version__"
      ],
      "metadata": {
        "colab": {
          "base_uri": "https://localhost:8080/",
          "height": 35
        },
        "id": "3bMkQ-4LBpHu",
        "outputId": "6d511edd-78e8-48d2-b4df-8e8a33b84718"
      },
      "execution_count": null,
      "outputs": [
        {
          "output_type": "execute_result",
          "data": {
            "text/plain": [
              "'0.4.13'"
            ],
            "application/vnd.google.colaboratory.intrinsic+json": {
              "type": "string"
            }
          },
          "metadata": {},
          "execution_count": 56
        }
      ]
    },
    {
      "cell_type": "code",
      "source": [
        "rng = jax.random.PRNGKey(0)"
      ],
      "metadata": {
        "id": "_usCRHphCWy5"
      },
      "execution_count": null,
      "outputs": []
    },
    {
      "cell_type": "code",
      "source": [
        "x_rng, y_rng = jax.random.split(rng, 2)"
      ],
      "metadata": {
        "id": "VFoWVX1LDIn_"
      },
      "execution_count": null,
      "outputs": []
    },
    {
      "cell_type": "code",
      "source": [
        "x_rng"
      ],
      "metadata": {
        "colab": {
          "base_uri": "https://localhost:8080/"
        },
        "id": "0MrEQgVGDSpx",
        "outputId": "010d404e-bebd-4b71-a355-d89961d68e6b"
      },
      "execution_count": null,
      "outputs": [
        {
          "output_type": "execute_result",
          "data": {
            "text/plain": [
              "Array([4146024105,  967050713], dtype=uint32)"
            ]
          },
          "metadata": {},
          "execution_count": 59
        }
      ]
    },
    {
      "cell_type": "code",
      "source": [
        "y_rng"
      ],
      "metadata": {
        "colab": {
          "base_uri": "https://localhost:8080/"
        },
        "id": "OI3M0ZSDDTV0",
        "outputId": "252817cf-b18f-4a46-d38a-41616f2cef77"
      },
      "execution_count": null,
      "outputs": [
        {
          "output_type": "execute_result",
          "data": {
            "text/plain": [
              "Array([2718843009, 1272950319], dtype=uint32)"
            ]
          },
          "metadata": {},
          "execution_count": 60
        }
      ]
    },
    {
      "cell_type": "code",
      "source": [
        "x = jax.random.uniform(x_rng, shape=(1000, 1))\n",
        "w = jnp.array([2., -1]).reshape(-1, 1)\n",
        "X = jnp.concatenate([x, jnp.ones_like(x)], axis=1)\n",
        "noise = jax.random.normal(y_rng, shape=(1000, 1)) * .2\n",
        "y = X @ w + noise"
      ],
      "metadata": {
        "id": "p5wQ0w7oDWh6"
      },
      "execution_count": null,
      "outputs": []
    },
    {
      "cell_type": "code",
      "source": [
        "import matplotlib.pyplot as plt"
      ],
      "metadata": {
        "id": "MbxQp6MkD2QD"
      },
      "execution_count": null,
      "outputs": []
    },
    {
      "cell_type": "code",
      "source": [
        "fig, ax = plt.subplots()\n",
        "ax.scatter(x, y)"
      ],
      "metadata": {
        "colab": {
          "base_uri": "https://localhost:8080/",
          "height": 447
        },
        "id": "15gc-no6D8rv",
        "outputId": "dc23e1bf-c126-452b-e287-37f16a105905"
      },
      "execution_count": null,
      "outputs": [
        {
          "output_type": "execute_result",
          "data": {
            "text/plain": [
              "<matplotlib.collections.PathCollection at 0x7b05a861d2a0>"
            ]
          },
          "metadata": {},
          "execution_count": 71
        },
        {
          "output_type": "display_data",
          "data": {
            "text/plain": [
              "<Figure size 640x480 with 1 Axes>"
            ],
            "image/png": "[encoded data removed]"
          },
          "metadata": {}
        }
      ]
    },
    {
      "cell_type": "code",
      "source": [
        "w_mod = jnp.linalg.inv(X.T @ X) @ X.T @ y"
      ],
      "metadata": {
        "id": "SVBf_BsgEBtb"
      },
      "execution_count": null,
      "outputs": []
    },
    {
      "cell_type": "code",
      "source": [
        "w_mod"
      ],
      "metadata": {
        "colab": {
          "base_uri": "https://localhost:8080/"
        },
        "id": "6xIc9t8REqov",
        "outputId": "afb9f415-a3e4-4dba-9196-930f02c92244"
      },
      "execution_count": null,
      "outputs": [
        {
          "output_type": "execute_result",
          "data": {
            "text/plain": [
              "Array([[ 2.0153856 ],\n",
              "       [-0.99534345]], dtype=float32)"
            ]
          },
          "metadata": {},
          "execution_count": 73
        }
      ]
    },
    {
      "cell_type": "code",
      "source": [
        "x_range = jnp.linspace(0, 1, 10).reshape(-1, 1)\n",
        "X_range = jnp.concatenate([x_range, jnp.ones_like(x_range)], axis=1)\n",
        "y_pred = X_range @ w_mod"
      ],
      "metadata": {
        "id": "kZNoOgJnEsrQ"
      },
      "execution_count": null,
      "outputs": []
    },
    {
      "cell_type": "code",
      "source": [
        "fig, ax = plt.subplots()\n",
        "ax.scatter(x, y, alpha=0.2)\n",
        "ax.plot(x_range, y_pred, color=\"r\")"
      ],
      "metadata": {
        "colab": {
          "base_uri": "https://localhost:8080/",
          "height": 447
        },
        "id": "VORQbS_XEzzG",
        "outputId": "fef3e793-f9dc-4e35-be67-b9fe25d580c1"
      },
      "execution_count": null,
      "outputs": [
        {
          "output_type": "execute_result",
          "data": {
            "text/plain": [
              "[<matplotlib.lines.Line2D at 0x7b05a85e89d0>]"
            ]
          },
          "metadata": {},
          "execution_count": 77
        },
        {
          "output_type": "display_data",
          "data": {
            "text/plain": [
              "<Figure size 640x480 with 1 Axes>"
            ],
            "image/png": "[encoded data removed]"
          },
          "metadata": {}
        }
      ]
    },
    {
      "cell_type": "code",
      "source": [],
      "metadata": {
        "id": "iGyGJq7yFCsq"
      },
      "execution_count": null,
      "outputs": []
    }
  ]
}